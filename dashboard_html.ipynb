{
 "cells": [
  {
   "cell_type": "code",
   "execution_count": 24,
   "metadata": {},
   "outputs": [],
   "source": [
    "import pandas as pd\n",
    "import plotly.express as px\n",
    "import plotly.graph_objects as go\n",
    "from plotly.subplots import make_subplots\n",
    "from plotly.offline import plot\n",
    "\n",
    "# Load the dataset\n",
    "# Replace 'your_dataset.csv' with the actual file path\n",
    "df = pd.read_csv('data/wppool_growth_data_sample_20k.csv')\n"
   ]
  },
  {
   "cell_type": "code",
   "execution_count": 25,
   "metadata": {},
   "outputs": [],
   "source": [
    "\n",
    "# Data Exploration & Cleaning\n",
    "# Handle missing values\n",
    "df.fillna({'total_sessions': df['total_sessions'].median(),\n",
    "           'page_views': df['page_views'].median(),\n",
    "           'days_active': df['days_active'].median(),\n",
    "           'monthly_revenue': 0}, inplace=True)\n",
    "\n",
    "# Remove duplicates\n",
    "df.drop_duplicates(inplace=True)\n",
    "\n",
    "# Summary of the dataset\n",
    "summary = df.describe(include='all')\n",
    "free_pro_distribution = df['subscription_type'].value_counts(normalize=True) * 100\n",
    "\n",
    "# Create a list to store all visualizations\n",
    "visualizations = []\n",
    "\n",
    "# 1. Data Exploration & Cleaning\n",
    "visualizations.append(\"<h1>Data Exploration & Cleaning</h1>\")\n",
    "visualizations.append(f\"<p>Total Users: {len(df)}</p>\")\n",
    "visualizations.append(f\"<p>Free Users: {free_pro_distribution['Free']:.2f}%</p>\")\n",
    "visualizations.append(f\"<p>Pro Users: {free_pro_distribution['Pro']:.2f}%</p>\")\n",
    "visualizations.append(f\"<p>{df.duplicated().sum()} duplicates were removed.</p>\")\n",
    "\n"
   ]
  },
  {
   "cell_type": "code",
   "execution_count": 26,
   "metadata": {},
   "outputs": [],
   "source": [
    "# 2. User Engagement Analysis\n",
    "avg_sessions = df.groupby('subscription_type')['total_sessions'].mean()\n",
    "top_users = df.nlargest(5, 'total_sessions')[['user_id', 'total_sessions', 'subscription_type']]\n",
    "top_countries = df.groupby('country')['total_sessions'].sum().nlargest(5)\n",
    "\n",
    "visualizations.append(\"<h1>User Engagement Analysis</h1>\")\n",
    "visualizations.append(\"<h2>Average Sessions for Free vs. Pro Users</h2>\")\n",
    "visualizations.append(plot(px.bar(avg_sessions, x=avg_sessions.index, y=avg_sessions.values,\n",
    "                           labels={'x': 'Subscription Type', 'y': 'Average Sessions'},\n",
    "                           title='Average Sessions by Subscription Type'), output_type='div', include_plotlyjs='cdn'))\n",
    "\n",
    "visualizations.append(\"<h2>Top 5 Most Active Users</h2>\")\n",
    "visualizations.append(plot(go.Figure(data=[go.Table(\n",
    "    header=dict(values=[\"User ID\", \"Total Sessions\", \"Subscription Type\"]),\n",
    "    cells=dict(values=[top_users['user_id'], top_users['total_sessions'], top_users['subscription_type']])\n",
    ")]), output_type='div', include_plotlyjs='cdn'))\n",
    "\n",
    "visualizations.append(\"<h2>Top 5 Countries with Highest Engagement</h2>\")\n",
    "visualizations.append(plot(px.bar(top_countries, x=top_countries.index, y=top_countries.values,\n",
    "                           labels={'x': 'Country', 'y': 'Total Sessions'},\n",
    "                           title='Top 5 Countries by Engagement'), output_type='div', include_plotlyjs='cdn'))\n",
    "\n"
   ]
  },
  {
   "cell_type": "code",
   "execution_count": 27,
   "metadata": {},
   "outputs": [],
   "source": [
    "# 3. Churn Analysis\n",
    "churn_rate = df.groupby('subscription_type')['churned'].mean() * 100\n",
    "\n",
    "correlation = df.select_dtypes(include=['number']).corr()['churned'].sort_values(ascending=False)\n",
    "\n",
    "churn_trends = df.groupby(['subscription_type', 'churned']).size().unstack()\n",
    "\n",
    "visualizations.append(\"<h1>Churn Analysis</h1>\")\n",
    "visualizations.append(\"<h2>Churn Rate by Subscription Type</h2>\")\n",
    "visualizations.append(plot(px.pie(churn_rate, values=churn_rate.values, names=churn_rate.index,\n",
    "                           title='Churn Rate by Subscription Type', hole=0.4), output_type='div', include_plotlyjs='cdn'))\n",
    "\n",
    "\n",
    "\n",
    "visualizations.append(\"<h2>Churn Trends: Free vs. Pro Users</h2>\")\n",
    "visualizations.append(plot(px.bar(churn_trends, barmode='group',\n",
    "                           labels={'value': 'Number of Users', 'subscription_type': 'Subscription Type'},\n",
    "                           title='Churn Trends: Free vs. Pro Users'), output_type='div', include_plotlyjs='cdn'))\n",
    "\n"
   ]
  },
  {
   "cell_type": "code",
   "execution_count": 28,
   "metadata": {},
   "outputs": [],
   "source": [
    "# 4. Revenue & Upgrade Trends\n",
    "upgrade_percentage = (df[df['subscription_type'] == 'Pro']['user_id'].nunique() / df['user_id'].nunique()) * 100\n",
    "total_revenue = df[df['subscription_type'] == 'Pro']['monthly_revenue'].sum()\n",
    "revenue_by_plan = df[df['subscription_type'] == 'Pro'].groupby('plan_type')['monthly_revenue'].sum()\n",
    "upgrade_time = df[df['subscription_type'] == 'Pro']['days_active'].mean()\n",
    "\n",
    "visualizations.append(\"<h1>Revenue & Upgrade Trends</h1>\")\n",
    "visualizations.append(\"<h2>Percentage of Users Upgraded from Free to Pro</h2>\")\n",
    "visualizations.append(f\"<p>{upgrade_percentage:.2f}%</p>\")\n",
    "\n",
    "visualizations.append(\"<h2>Total Monthly Revenue from Pro Users</h2>\")\n",
    "visualizations.append(f\"<p>${total_revenue:,.2f}</p>\")\n",
    "\n",
    "visualizations.append(\"<h2>Revenue Contribution by Pro Plan</h2>\")\n",
    "visualizations.append(plot(px.pie(revenue_by_plan, values=revenue_by_plan.values, names=revenue_by_plan.index,\n",
    "                           title='Revenue by Pro Plan', hole=0.4), output_type='div', include_plotlyjs='cdn'))\n",
    "\n",
    "visualizations.append(\"<h2>Average Time to Upgrade (Days)</h2>\")\n",
    "visualizations.append(f\"<p>{upgrade_time:.2f} days</p>\")\n",
    "\n",
    "# 5. Market Expansion Opportunities\n",
    "revenue_by_country = df.groupby('country')['monthly_revenue'].sum().reset_index()\n",
    "visualizations.append(\"<h1>Market Expansion Opportunities</h1>\")\n",
    "visualizations.append(\"<h2>Total Revenue by Country</h2>\")\n",
    "visualizations.append(plot(px.choropleth(revenue_by_country, locations='country', locationmode='country names',\n",
    "                           color='monthly_revenue', hover_name='country',\n",
    "                           title='Total Revenue by Country',\n",
    "                           color_continuous_scale=px.colors.sequential.Plasma), output_type='div', include_plotlyjs='cdn'))\n",
    "\n"
   ]
  },
  {
   "cell_type": "code",
   "execution_count": 29,
   "metadata": {},
   "outputs": [],
   "source": [
    "# 6. High-Engagement vs. Underpenetrated Markets\n",
    "high_engagement = df.groupby('country')['total_sessions'].sum().nlargest(5).reset_index()\n",
    "underpenetrated = df.groupby('country')['total_sessions'].sum().nsmallest(5).reset_index()\n",
    "high_engagement['market_type'] = 'High Engagement'\n",
    "underpenetrated['market_type'] = 'Underpenetrated'\n",
    "combined_data = pd.concat([high_engagement, underpenetrated])\n",
    "\n",
    "visualizations.append(\"<h1>High-Engagement vs. Underpenetrated Markets</h1>\")\n",
    "visualizations.append(plot(px.bar(combined_data, x='country', y='total_sessions', color='market_type',\n",
    "                           labels={'x': 'Country', 'y': 'Total Sessions'},\n",
    "                           title='High-Engagement vs. Underpenetrated Markets'), output_type='div', include_plotlyjs='cdn'))\n",
    "\n"
   ]
  },
  {
   "cell_type": "code",
   "execution_count": 30,
   "metadata": {},
   "outputs": [
    {
     "name": "stdout",
     "output_type": "stream",
     "text": [
      "Dashboard saved as 'index.html'\n"
     ]
    }
   ],
   "source": [
    "# Combine all visualizations into a single HTML file\n",
    "html_content = \"\"\"\n",
    "<!DOCTYPE html>\n",
    "<html>\n",
    "<head>\n",
    "    <title>WPPOOL Growth Analytics Dashboard</title>\n",
    "    <script src=\"https://cdn.plot.ly/plotly-latest.min.js\"></script>\n",
    "</head>\n",
    "<body>\n",
    "    <h1 style=\"text-align: center; color: #2c3e50;\">WPPOOL Growth Analytics Dashboard</h1>\n",
    "    {}\n",
    "</body>\n",
    "</html>\n",
    "\"\"\".format(\"\\n\".join(visualizations))\n",
    "\n",
    "# Save the HTML file\n",
    "with open(\"index.html\", \"w\") as f:\n",
    "    f.write(html_content)\n",
    "\n",
    "print(\"Dashboard saved as 'index.html'\")"
   ]
  }
 ],
 "metadata": {
  "kernelspec": {
   "display_name": "Python 3",
   "language": "python",
   "name": "python3"
  },
  "language_info": {
   "codemirror_mode": {
    "name": "ipython",
    "version": 3
   },
   "file_extension": ".py",
   "mimetype": "text/x-python",
   "name": "python",
   "nbconvert_exporter": "python",
   "pygments_lexer": "ipython3",
   "version": "3.12.5"
  }
 },
 "nbformat": 4,
 "nbformat_minor": 2
}
