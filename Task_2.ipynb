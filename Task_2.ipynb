{
 "cells": [
  {
   "cell_type": "code",
   "execution_count": 1,
   "metadata": {},
   "outputs": [
    {
     "data": {
      "text/html": [
       "<div>\n",
       "<style scoped>\n",
       "    .dataframe tbody tr th:only-of-type {\n",
       "        vertical-align: middle;\n",
       "    }\n",
       "\n",
       "    .dataframe tbody tr th {\n",
       "        vertical-align: top;\n",
       "    }\n",
       "\n",
       "    .dataframe thead th {\n",
       "        text-align: right;\n",
       "    }\n",
       "</style>\n",
       "<table border=\"1\" class=\"dataframe\">\n",
       "  <thead>\n",
       "    <tr style=\"text-align: right;\">\n",
       "      <th></th>\n",
       "      <th>user_id</th>\n",
       "      <th>install_date</th>\n",
       "      <th>last_active_date</th>\n",
       "      <th>subscription_type</th>\n",
       "      <th>country</th>\n",
       "      <th>total_sessions</th>\n",
       "      <th>page_views</th>\n",
       "      <th>download_clicks</th>\n",
       "      <th>activation_status</th>\n",
       "      <th>days_active</th>\n",
       "      <th>pro_upgrade_date</th>\n",
       "      <th>plan_type</th>\n",
       "      <th>monthly_revenue</th>\n",
       "      <th>churned</th>\n",
       "    </tr>\n",
       "  </thead>\n",
       "  <tbody>\n",
       "    <tr>\n",
       "      <th>0</th>\n",
       "      <td>1</td>\n",
       "      <td>6/29/2023</td>\n",
       "      <td>7/12/2023</td>\n",
       "      <td>Free</td>\n",
       "      <td>UK</td>\n",
       "      <td>3</td>\n",
       "      <td>15</td>\n",
       "      <td>1</td>\n",
       "      <td>1</td>\n",
       "      <td>13</td>\n",
       "      <td>NaN</td>\n",
       "      <td>NaN</td>\n",
       "      <td>0</td>\n",
       "      <td>1</td>\n",
       "    </tr>\n",
       "    <tr>\n",
       "      <th>1</th>\n",
       "      <td>2</td>\n",
       "      <td>4/10/2023</td>\n",
       "      <td>7/25/2023</td>\n",
       "      <td>Free</td>\n",
       "      <td>India</td>\n",
       "      <td>133</td>\n",
       "      <td>665</td>\n",
       "      <td>0</td>\n",
       "      <td>1</td>\n",
       "      <td>106</td>\n",
       "      <td>NaN</td>\n",
       "      <td>NaN</td>\n",
       "      <td>0</td>\n",
       "      <td>0</td>\n",
       "    </tr>\n",
       "    <tr>\n",
       "      <th>2</th>\n",
       "      <td>3</td>\n",
       "      <td>10/25/2023</td>\n",
       "      <td>12/7/2023</td>\n",
       "      <td>Free</td>\n",
       "      <td>USA</td>\n",
       "      <td>53</td>\n",
       "      <td>106</td>\n",
       "      <td>0</td>\n",
       "      <td>1</td>\n",
       "      <td>43</td>\n",
       "      <td>NaN</td>\n",
       "      <td>NaN</td>\n",
       "      <td>0</td>\n",
       "      <td>0</td>\n",
       "    </tr>\n",
       "    <tr>\n",
       "      <th>3</th>\n",
       "      <td>4</td>\n",
       "      <td>8/26/2023</td>\n",
       "      <td>11/9/2023</td>\n",
       "      <td>Pro</td>\n",
       "      <td>Canada</td>\n",
       "      <td>242</td>\n",
       "      <td>242</td>\n",
       "      <td>0</td>\n",
       "      <td>1</td>\n",
       "      <td>75</td>\n",
       "      <td>11/9/2023</td>\n",
       "      <td>Basic</td>\n",
       "      <td>49</td>\n",
       "      <td>0</td>\n",
       "    </tr>\n",
       "    <tr>\n",
       "      <th>4</th>\n",
       "      <td>5</td>\n",
       "      <td>5/14/2023</td>\n",
       "      <td>11/22/2023</td>\n",
       "      <td>Free</td>\n",
       "      <td>UK</td>\n",
       "      <td>12</td>\n",
       "      <td>48</td>\n",
       "      <td>0</td>\n",
       "      <td>1</td>\n",
       "      <td>192</td>\n",
       "      <td>NaN</td>\n",
       "      <td>NaN</td>\n",
       "      <td>0</td>\n",
       "      <td>0</td>\n",
       "    </tr>\n",
       "  </tbody>\n",
       "</table>\n",
       "</div>"
      ],
      "text/plain": [
       "   user_id install_date last_active_date subscription_type country  \\\n",
       "0        1    6/29/2023        7/12/2023              Free      UK   \n",
       "1        2    4/10/2023        7/25/2023              Free   India   \n",
       "2        3   10/25/2023        12/7/2023              Free     USA   \n",
       "3        4    8/26/2023        11/9/2023               Pro  Canada   \n",
       "4        5    5/14/2023       11/22/2023              Free      UK   \n",
       "\n",
       "   total_sessions  page_views  download_clicks  activation_status  \\\n",
       "0               3          15                1                  1   \n",
       "1             133         665                0                  1   \n",
       "2              53         106                0                  1   \n",
       "3             242         242                0                  1   \n",
       "4              12          48                0                  1   \n",
       "\n",
       "   days_active pro_upgrade_date plan_type  monthly_revenue  churned  \n",
       "0           13              NaN       NaN                0        1  \n",
       "1          106              NaN       NaN                0        0  \n",
       "2           43              NaN       NaN                0        0  \n",
       "3           75        11/9/2023     Basic               49        0  \n",
       "4          192              NaN       NaN                0        0  "
      ]
     },
     "execution_count": 1,
     "metadata": {},
     "output_type": "execute_result"
    }
   ],
   "source": [
    "import pandas as pd\n",
    "\n",
    "# Load the dataset\n",
    "df = pd.read_csv('wppool_growth_data_sample_20k.csv')\n",
    "df.head()\n",
    "\n"
   ]
  },
  {
   "cell_type": "code",
   "execution_count": 2,
   "metadata": {},
   "outputs": [
    {
     "name": "stdout",
     "output_type": "stream",
     "text": [
      "Average number of sessions for Free vs. Pro users:\n",
      "subscription_type\n",
      "Free     76.081210\n",
      "Pro     154.677836\n",
      "Name: total_sessions, dtype: float64\n"
     ]
    }
   ],
   "source": [
    "# Step 1: Average number of sessions for Free vs. Pro users\n",
    "avg_sessions_by_subscription = df.groupby('subscription_type')['total_sessions'].mean()\n",
    "print(\"Average number of sessions for Free vs. Pro users:\")\n",
    "print(avg_sessions_by_subscription)\n",
    "\n"
   ]
  },
  {
   "cell_type": "code",
   "execution_count": 3,
   "metadata": {},
   "outputs": [
    {
     "name": "stdout",
     "output_type": "stream",
     "text": [
      "\n",
      "Top 5 most active users based on total sessions:\n",
      "      user_id  total_sessions subscription_type\n",
      "188       189             300               Pro\n",
      "821       822             300               Pro\n",
      "1571     1572             300               Pro\n",
      "2456     2457             300               Pro\n",
      "3348     3349             300               Pro\n"
     ]
    }
   ],
   "source": [
    "# Step 2: Top 5 most active users based on total sessions\n",
    "top_active_users = df.nlargest(5, 'total_sessions')[['user_id', 'total_sessions', 'subscription_type']]\n",
    "print(\"\\nTop 5 most active users based on total sessions:\")\n",
    "print(top_active_users)\n",
    "\n"
   ]
  },
  {
   "cell_type": "code",
   "execution_count": 4,
   "metadata": {},
   "outputs": [
    {
     "name": "stdout",
     "output_type": "stream",
     "text": [
      "\n",
      "Top 5 countries with the highest engagement:\n",
      "country\n",
      "India      272202\n",
      "Germany    266319\n",
      "Canada     264217\n",
      "USA        261635\n",
      "France     259495\n",
      "Name: total_sessions, dtype: int64\n"
     ]
    }
   ],
   "source": [
    "# Step 3: Top 5 countries with the highest engagement\n",
    "# Engagement is measured by the sum of total_sessions per country\n",
    "top_countries_by_engagement = df.groupby('country')['total_sessions'].sum().nlargest(5)\n",
    "print(\"\\nTop 5 countries with the highest engagement:\")\n",
    "print(top_countries_by_engagement)"
   ]
  }
 ],
 "metadata": {
  "kernelspec": {
   "display_name": "Python 3",
   "language": "python",
   "name": "python3"
  },
  "language_info": {
   "codemirror_mode": {
    "name": "ipython",
    "version": 3
   },
   "file_extension": ".py",
   "mimetype": "text/x-python",
   "name": "python",
   "nbconvert_exporter": "python",
   "pygments_lexer": "ipython3",
   "version": "3.12.5"
  }
 },
 "nbformat": 4,
 "nbformat_minor": 2
}
