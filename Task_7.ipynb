{
 "cells": [
  {
   "cell_type": "code",
   "execution_count": 1,
   "metadata": {},
   "outputs": [
    {
     "data": {
      "text/html": [
       "<div>\n",
       "<style scoped>\n",
       "    .dataframe tbody tr th:only-of-type {\n",
       "        vertical-align: middle;\n",
       "    }\n",
       "\n",
       "    .dataframe tbody tr th {\n",
       "        vertical-align: top;\n",
       "    }\n",
       "\n",
       "    .dataframe thead th {\n",
       "        text-align: right;\n",
       "    }\n",
       "</style>\n",
       "<table border=\"1\" class=\"dataframe\">\n",
       "  <thead>\n",
       "    <tr style=\"text-align: right;\">\n",
       "      <th></th>\n",
       "      <th>user_id</th>\n",
       "      <th>install_date</th>\n",
       "      <th>last_active_date</th>\n",
       "      <th>subscription_type</th>\n",
       "      <th>country</th>\n",
       "      <th>total_sessions</th>\n",
       "      <th>page_views</th>\n",
       "      <th>download_clicks</th>\n",
       "      <th>activation_status</th>\n",
       "      <th>days_active</th>\n",
       "      <th>pro_upgrade_date</th>\n",
       "      <th>plan_type</th>\n",
       "      <th>monthly_revenue</th>\n",
       "      <th>churned</th>\n",
       "    </tr>\n",
       "  </thead>\n",
       "  <tbody>\n",
       "    <tr>\n",
       "      <th>0</th>\n",
       "      <td>1</td>\n",
       "      <td>6/29/2023</td>\n",
       "      <td>7/12/2023</td>\n",
       "      <td>Free</td>\n",
       "      <td>UK</td>\n",
       "      <td>3</td>\n",
       "      <td>15</td>\n",
       "      <td>1</td>\n",
       "      <td>1</td>\n",
       "      <td>13</td>\n",
       "      <td>NaN</td>\n",
       "      <td>NaN</td>\n",
       "      <td>0</td>\n",
       "      <td>1</td>\n",
       "    </tr>\n",
       "    <tr>\n",
       "      <th>1</th>\n",
       "      <td>2</td>\n",
       "      <td>4/10/2023</td>\n",
       "      <td>7/25/2023</td>\n",
       "      <td>Free</td>\n",
       "      <td>India</td>\n",
       "      <td>133</td>\n",
       "      <td>665</td>\n",
       "      <td>0</td>\n",
       "      <td>1</td>\n",
       "      <td>106</td>\n",
       "      <td>NaN</td>\n",
       "      <td>NaN</td>\n",
       "      <td>0</td>\n",
       "      <td>0</td>\n",
       "    </tr>\n",
       "    <tr>\n",
       "      <th>2</th>\n",
       "      <td>3</td>\n",
       "      <td>10/25/2023</td>\n",
       "      <td>12/7/2023</td>\n",
       "      <td>Free</td>\n",
       "      <td>USA</td>\n",
       "      <td>53</td>\n",
       "      <td>106</td>\n",
       "      <td>0</td>\n",
       "      <td>1</td>\n",
       "      <td>43</td>\n",
       "      <td>NaN</td>\n",
       "      <td>NaN</td>\n",
       "      <td>0</td>\n",
       "      <td>0</td>\n",
       "    </tr>\n",
       "    <tr>\n",
       "      <th>3</th>\n",
       "      <td>4</td>\n",
       "      <td>8/26/2023</td>\n",
       "      <td>11/9/2023</td>\n",
       "      <td>Pro</td>\n",
       "      <td>Canada</td>\n",
       "      <td>242</td>\n",
       "      <td>242</td>\n",
       "      <td>0</td>\n",
       "      <td>1</td>\n",
       "      <td>75</td>\n",
       "      <td>11/9/2023</td>\n",
       "      <td>Basic</td>\n",
       "      <td>49</td>\n",
       "      <td>0</td>\n",
       "    </tr>\n",
       "    <tr>\n",
       "      <th>4</th>\n",
       "      <td>5</td>\n",
       "      <td>5/14/2023</td>\n",
       "      <td>11/22/2023</td>\n",
       "      <td>Free</td>\n",
       "      <td>UK</td>\n",
       "      <td>12</td>\n",
       "      <td>48</td>\n",
       "      <td>0</td>\n",
       "      <td>1</td>\n",
       "      <td>192</td>\n",
       "      <td>NaN</td>\n",
       "      <td>NaN</td>\n",
       "      <td>0</td>\n",
       "      <td>0</td>\n",
       "    </tr>\n",
       "  </tbody>\n",
       "</table>\n",
       "</div>"
      ],
      "text/plain": [
       "   user_id install_date last_active_date subscription_type country  \\\n",
       "0        1    6/29/2023        7/12/2023              Free      UK   \n",
       "1        2    4/10/2023        7/25/2023              Free   India   \n",
       "2        3   10/25/2023        12/7/2023              Free     USA   \n",
       "3        4    8/26/2023        11/9/2023               Pro  Canada   \n",
       "4        5    5/14/2023       11/22/2023              Free      UK   \n",
       "\n",
       "   total_sessions  page_views  download_clicks  activation_status  \\\n",
       "0               3          15                1                  1   \n",
       "1             133         665                0                  1   \n",
       "2              53         106                0                  1   \n",
       "3             242         242                0                  1   \n",
       "4              12          48                0                  1   \n",
       "\n",
       "   days_active pro_upgrade_date plan_type  monthly_revenue  churned  \n",
       "0           13              NaN       NaN                0        1  \n",
       "1          106              NaN       NaN                0        0  \n",
       "2           43              NaN       NaN                0        0  \n",
       "3           75        11/9/2023     Basic               49        0  \n",
       "4          192              NaN       NaN                0        0  "
      ]
     },
     "execution_count": 1,
     "metadata": {},
     "output_type": "execute_result"
    }
   ],
   "source": [
    "import pandas as pd\n",
    "import numpy as np\n",
    "\n",
    "# Load the dataset\n",
    "df = pd.read_csv('wppool_growth_data_sample_20k.csv')\n",
    "df.head()\n",
    "\n"
   ]
  },
  {
   "cell_type": "code",
   "execution_count": 2,
   "metadata": {},
   "outputs": [],
   "source": [
    "# Step 1: Calculate KPIs\n",
    "# a. Churn Rate\n",
    "total_users = df['user_id'].nunique()\n",
    "churned_users = df[df['churned'] == 1]['user_id'].nunique()\n",
    "churn_rate = (churned_users / total_users) * 100\n",
    "\n",
    "# b. Conversion Rate (Free to Pro)\n",
    "free_users = df[df['subscription_type'] == 'Free']['user_id'].nunique()\n",
    "pro_users = df[df['subscription_type'] == 'Pro']['user_id'].nunique()\n",
    "conversion_rate = (pro_users / free_users) * 100\n",
    "\n",
    "# c. Customer Lifetime Value (CLV)\n",
    "average_monthly_revenue = df[df['subscription_type'] == 'Pro']['monthly_revenue'].mean()\n",
    "average_customer_lifespan = 12  # Example: Assume an average lifespan of 12 months\n",
    "clv = average_monthly_revenue * average_customer_lifespan\n",
    "\n"
   ]
  },
  {
   "cell_type": "code",
   "execution_count": 3,
   "metadata": {},
   "outputs": [
    {
     "name": "stdout",
     "output_type": "stream",
     "text": [
      "Key Performance Indicators (KPIs):\n",
      "Churn Rate: 28.52%\n",
      "Conversion Rate (Free to Pro): 25.23%\n",
      "Customer Lifetime Value (CLV): $701.36\n"
     ]
    }
   ],
   "source": [
    "\n",
    "\n",
    "print(\"Key Performance Indicators (KPIs):\")\n",
    "print(f\"Churn Rate: {churn_rate:.2f}%\")\n",
    "print(f\"Conversion Rate (Free to Pro): {conversion_rate:.2f}%\")\n",
    "print(f\"Customer Lifetime Value (CLV): ${clv:.2f}\")\n",
    "\n"
   ]
  },
  {
   "cell_type": "code",
   "execution_count": 5,
   "metadata": {},
   "outputs": [
    {
     "name": "stdout",
     "output_type": "stream",
     "text": [
      "\n",
      "New Activation Rate after Improvement: 100.00%\n"
     ]
    }
   ],
   "source": [
    "# Step 2: Simulate Growth Strategies\n",
    "# a. Improve Onboarding and Activation\n",
    "# Simulate improved activation rate (e.g., from 60% to 80%)\n",
    "df['activation_status'] = np.where(df['activation_status'] == 0, np.random.choice([0, 1], p=[0.2, 0.8]), 1)\n",
    "\n",
    "# Calculate new activation rate\n",
    "new_activation_rate = (df['activation_status'].sum() / len(df)) * 100\n",
    "print(f\"\\nNew Activation Rate after Improvement: {new_activation_rate:.2f}%\")\n",
    "\n"
   ]
  },
  {
   "cell_type": "code",
   "execution_count": 6,
   "metadata": {},
   "outputs": [
    {
     "name": "stdout",
     "output_type": "stream",
     "text": [
      "New Conversion Rate after Upselling Campaign: 25.23%\n"
     ]
    }
   ],
   "source": [
    "# b. Targeted Upselling Campaigns\n",
    "# Simulate increased conversion rate (e.g., from 5% to 7%)\n",
    "df['subscription_type'] = np.where(\n",
    "    (df['subscription_type'] == 'Free') & (df['download_clicks'] == 1),\n",
    "    np.random.choice(['Free', 'Pro'], p=[0.93, 0.07]),\n",
    "    df['subscription_type']\n",
    ")\n",
    "\n",
    "# Calculate new conversion rate\n",
    "new_pro_users = df[df['subscription_type'] == 'Pro']['user_id'].nunique()\n",
    "new_conversion_rate = (new_pro_users / free_users) * 100\n",
    "print(f\"New Conversion Rate after Upselling Campaign: {new_conversion_rate:.2f}%\")\n",
    "\n"
   ]
  },
  {
   "cell_type": "code",
   "execution_count": 7,
   "metadata": {},
   "outputs": [
    {
     "name": "stdout",
     "output_type": "stream",
     "text": [
      "\n",
      "New Churn Rate after Onboarding Improvement: 28.52%\n",
      "New Monthly Revenue after Upselling Campaign: $235481.00\n"
     ]
    }
   ],
   "source": [
    "# Step 3: Measure Success of Growth Strategies\n",
    "# a. Success Metrics for Onboarding and Activation\n",
    "new_churned_users = df[df['churned'] == 1]['user_id'].nunique()\n",
    "new_churn_rate = (new_churned_users / total_users) * 100\n",
    "print(f\"\\nNew Churn Rate after Onboarding Improvement: {new_churn_rate:.2f}%\")\n",
    "\n",
    "# b. Success Metrics for Targeted Upselling Campaigns\n",
    "new_monthly_revenue = df[df['subscription_type'] == 'Pro']['monthly_revenue'].sum()\n",
    "print(f\"New Monthly Revenue after Upselling Campaign: ${new_monthly_revenue:.2f}\")"
   ]
  }
 ],
 "metadata": {
  "kernelspec": {
   "display_name": "Python 3",
   "language": "python",
   "name": "python3"
  },
  "language_info": {
   "codemirror_mode": {
    "name": "ipython",
    "version": 3
   },
   "file_extension": ".py",
   "mimetype": "text/x-python",
   "name": "python",
   "nbconvert_exporter": "python",
   "pygments_lexer": "ipython3",
   "version": "3.12.5"
  }
 },
 "nbformat": 4,
 "nbformat_minor": 2
}
