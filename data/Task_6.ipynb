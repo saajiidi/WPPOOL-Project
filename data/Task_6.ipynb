{
 "cells": [
  {
   "cell_type": "code",
   "execution_count": 1,
   "metadata": {},
   "outputs": [
    {
     "data": {
      "text/html": [
       "<div>\n",
       "<style scoped>\n",
       "    .dataframe tbody tr th:only-of-type {\n",
       "        vertical-align: middle;\n",
       "    }\n",
       "\n",
       "    .dataframe tbody tr th {\n",
       "        vertical-align: top;\n",
       "    }\n",
       "\n",
       "    .dataframe thead th {\n",
       "        text-align: right;\n",
       "    }\n",
       "</style>\n",
       "<table border=\"1\" class=\"dataframe\">\n",
       "  <thead>\n",
       "    <tr style=\"text-align: right;\">\n",
       "      <th></th>\n",
       "      <th>user_id</th>\n",
       "      <th>install_date</th>\n",
       "      <th>last_active_date</th>\n",
       "      <th>subscription_type</th>\n",
       "      <th>country</th>\n",
       "      <th>total_sessions</th>\n",
       "      <th>page_views</th>\n",
       "      <th>download_clicks</th>\n",
       "      <th>activation_status</th>\n",
       "      <th>days_active</th>\n",
       "      <th>pro_upgrade_date</th>\n",
       "      <th>plan_type</th>\n",
       "      <th>monthly_revenue</th>\n",
       "      <th>churned</th>\n",
       "    </tr>\n",
       "  </thead>\n",
       "  <tbody>\n",
       "    <tr>\n",
       "      <th>0</th>\n",
       "      <td>1</td>\n",
       "      <td>6/29/2023</td>\n",
       "      <td>7/12/2023</td>\n",
       "      <td>Free</td>\n",
       "      <td>UK</td>\n",
       "      <td>3</td>\n",
       "      <td>15</td>\n",
       "      <td>1</td>\n",
       "      <td>1</td>\n",
       "      <td>13</td>\n",
       "      <td>NaN</td>\n",
       "      <td>NaN</td>\n",
       "      <td>0</td>\n",
       "      <td>1</td>\n",
       "    </tr>\n",
       "    <tr>\n",
       "      <th>1</th>\n",
       "      <td>2</td>\n",
       "      <td>4/10/2023</td>\n",
       "      <td>7/25/2023</td>\n",
       "      <td>Free</td>\n",
       "      <td>India</td>\n",
       "      <td>133</td>\n",
       "      <td>665</td>\n",
       "      <td>0</td>\n",
       "      <td>1</td>\n",
       "      <td>106</td>\n",
       "      <td>NaN</td>\n",
       "      <td>NaN</td>\n",
       "      <td>0</td>\n",
       "      <td>0</td>\n",
       "    </tr>\n",
       "    <tr>\n",
       "      <th>2</th>\n",
       "      <td>3</td>\n",
       "      <td>10/25/2023</td>\n",
       "      <td>12/7/2023</td>\n",
       "      <td>Free</td>\n",
       "      <td>USA</td>\n",
       "      <td>53</td>\n",
       "      <td>106</td>\n",
       "      <td>0</td>\n",
       "      <td>1</td>\n",
       "      <td>43</td>\n",
       "      <td>NaN</td>\n",
       "      <td>NaN</td>\n",
       "      <td>0</td>\n",
       "      <td>0</td>\n",
       "    </tr>\n",
       "    <tr>\n",
       "      <th>3</th>\n",
       "      <td>4</td>\n",
       "      <td>8/26/2023</td>\n",
       "      <td>11/9/2023</td>\n",
       "      <td>Pro</td>\n",
       "      <td>Canada</td>\n",
       "      <td>242</td>\n",
       "      <td>242</td>\n",
       "      <td>0</td>\n",
       "      <td>1</td>\n",
       "      <td>75</td>\n",
       "      <td>11/9/2023</td>\n",
       "      <td>Basic</td>\n",
       "      <td>49</td>\n",
       "      <td>0</td>\n",
       "    </tr>\n",
       "    <tr>\n",
       "      <th>4</th>\n",
       "      <td>5</td>\n",
       "      <td>5/14/2023</td>\n",
       "      <td>11/22/2023</td>\n",
       "      <td>Free</td>\n",
       "      <td>UK</td>\n",
       "      <td>12</td>\n",
       "      <td>48</td>\n",
       "      <td>0</td>\n",
       "      <td>1</td>\n",
       "      <td>192</td>\n",
       "      <td>NaN</td>\n",
       "      <td>NaN</td>\n",
       "      <td>0</td>\n",
       "      <td>0</td>\n",
       "    </tr>\n",
       "  </tbody>\n",
       "</table>\n",
       "</div>"
      ],
      "text/plain": [
       "   user_id install_date last_active_date subscription_type country  \\\n",
       "0        1    6/29/2023        7/12/2023              Free      UK   \n",
       "1        2    4/10/2023        7/25/2023              Free   India   \n",
       "2        3   10/25/2023        12/7/2023              Free     USA   \n",
       "3        4    8/26/2023        11/9/2023               Pro  Canada   \n",
       "4        5    5/14/2023       11/22/2023              Free      UK   \n",
       "\n",
       "   total_sessions  page_views  download_clicks  activation_status  \\\n",
       "0               3          15                1                  1   \n",
       "1             133         665                0                  1   \n",
       "2              53         106                0                  1   \n",
       "3             242         242                0                  1   \n",
       "4              12          48                0                  1   \n",
       "\n",
       "   days_active pro_upgrade_date plan_type  monthly_revenue  churned  \n",
       "0           13              NaN       NaN                0        1  \n",
       "1          106              NaN       NaN                0        0  \n",
       "2           43              NaN       NaN                0        0  \n",
       "3           75        11/9/2023     Basic               49        0  \n",
       "4          192              NaN       NaN                0        0  "
      ]
     },
     "execution_count": 1,
     "metadata": {},
     "output_type": "execute_result"
    }
   ],
   "source": [
    "import pandas as pd\n",
    "\n",
    "# Load the dataset\n",
    "df = pd.read_csv('wppool_growth_data_sample_20k.csv')\n",
    "df.head()\n"
   ]
  },
  {
   "cell_type": "code",
   "execution_count": 2,
   "metadata": {},
   "outputs": [],
   "source": [
    "# Step 1: Calculate current conversion rate\n",
    "total_landing_page_visits = 10000  # Example: Assume 10,000 landing page visits\n",
    "current_pro_upgrades = df[df['subscription_type'] == 'Pro']['user_id'].nunique()\n",
    "current_conversion_rate = (current_pro_upgrades / total_landing_page_visits) * 100\n",
    "\n"
   ]
  },
  {
   "cell_type": "code",
   "execution_count": 3,
   "metadata": {},
   "outputs": [],
   "source": [
    "# Step 2: Apply a 10% increase to the conversion rate\n",
    "new_conversion_rate = current_conversion_rate * 1.10\n",
    "\n"
   ]
  },
  {
   "cell_type": "code",
   "execution_count": 4,
   "metadata": {},
   "outputs": [
    {
     "name": "stdout",
     "output_type": "stream",
     "text": [
      "Current conversion rate: 40.29%\n",
      "New conversion rate (10% increase): 44.32%\n",
      "Estimated additional Pro upgrades: 403\n"
     ]
    }
   ],
   "source": [
    "# Step 3: Estimate additional Pro upgrades\n",
    "additional_pro_upgrades = (new_conversion_rate / 100) * total_landing_page_visits - current_pro_upgrades\n",
    "\n",
    "print(f\"Current conversion rate: {current_conversion_rate:.2f}%\")\n",
    "print(f\"New conversion rate (10% increase): {new_conversion_rate:.2f}%\")\n",
    "print(f\"Estimated additional Pro upgrades: {additional_pro_upgrades:.0f}\")"
   ]
  },
  {
   "cell_type": "code",
   "execution_count": 5,
   "metadata": {},
   "outputs": [],
   "source": [
    "import numpy as np\n",
    "from scipy.stats import chi2_contingency\n",
    "\n",
    "# Simulate A/B test data\n",
    "# Group A: Control group (current landing page)\n",
    "# Group B: Test group (new landing page)\n",
    "np.random.seed(42)\n",
    "group_a = np.random.choice([0, 1], size=5000, p=[0.95, 0.05])  # 5% conversion rate\n",
    "group_b = np.random.choice([0, 1], size=5000, p=[0.94, 0.06])  # 6% conversion rate (10% improvement)\n",
    "\n"
   ]
  },
  {
   "cell_type": "code",
   "execution_count": 6,
   "metadata": {},
   "outputs": [],
   "source": [
    "# Create a contingency table\n",
    "contingency_table = np.array([\n",
    "    [np.sum(group_a == 0), np.sum(group_a == 1)],  # Group A: Non-conversions, Conversions\n",
    "    [np.sum(group_b == 0), np.sum(group_b == 1)]   # Group B: Non-conversions, Conversions\n",
    "])\n",
    "\n"
   ]
  },
  {
   "cell_type": "code",
   "execution_count": 7,
   "metadata": {},
   "outputs": [
    {
     "name": "stdout",
     "output_type": "stream",
     "text": [
      "Contingency Table:\n",
      "[[4744  256]\n",
      " [4716  284]]\n",
      "Chi-square statistic: 1.43\n",
      "P-value: 0.2322\n"
     ]
    }
   ],
   "source": [
    "# Perform chi-square test\n",
    "chi2, p_value, _, _ = chi2_contingency(contingency_table)\n",
    "\n",
    "print(\"Contingency Table:\")\n",
    "print(contingency_table)\n",
    "print(f\"Chi-square statistic: {chi2:.2f}\")\n",
    "print(f\"P-value: {p_value:.4f}\")\n",
    "\n"
   ]
  },
  {
   "cell_type": "code",
   "execution_count": 8,
   "metadata": {},
   "outputs": [
    {
     "name": "stdout",
     "output_type": "stream",
     "text": [
      "The result is not statistically significant. The new landing page does not improve conversions.\n"
     ]
    }
   ],
   "source": [
    "# Interpret results\n",
    "if p_value < 0.05:\n",
    "    print(\"The result is statistically significant. The new landing page improves conversions.\")\n",
    "else:\n",
    "    print(\"The result is not statistically significant. The new landing page does not improve conversions.\")"
   ]
  }
 ],
 "metadata": {
  "kernelspec": {
   "display_name": "Python 3",
   "language": "python",
   "name": "python3"
  },
  "language_info": {
   "codemirror_mode": {
    "name": "ipython",
    "version": 3
   },
   "file_extension": ".py",
   "mimetype": "text/x-python",
   "name": "python",
   "nbconvert_exporter": "python",
   "pygments_lexer": "ipython3",
   "version": "3.12.5"
  }
 },
 "nbformat": 4,
 "nbformat_minor": 2
}
