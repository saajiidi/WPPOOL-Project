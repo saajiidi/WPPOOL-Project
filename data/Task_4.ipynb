{
 "cells": [
  {
   "cell_type": "code",
   "execution_count": 5,
   "metadata": {},
   "outputs": [
    {
     "data": {
      "text/html": [
       "<div>\n",
       "<style scoped>\n",
       "    .dataframe tbody tr th:only-of-type {\n",
       "        vertical-align: middle;\n",
       "    }\n",
       "\n",
       "    .dataframe tbody tr th {\n",
       "        vertical-align: top;\n",
       "    }\n",
       "\n",
       "    .dataframe thead th {\n",
       "        text-align: right;\n",
       "    }\n",
       "</style>\n",
       "<table border=\"1\" class=\"dataframe\">\n",
       "  <thead>\n",
       "    <tr style=\"text-align: right;\">\n",
       "      <th></th>\n",
       "      <th>user_id</th>\n",
       "      <th>install_date</th>\n",
       "      <th>last_active_date</th>\n",
       "      <th>subscription_type</th>\n",
       "      <th>country</th>\n",
       "      <th>total_sessions</th>\n",
       "      <th>page_views</th>\n",
       "      <th>download_clicks</th>\n",
       "      <th>activation_status</th>\n",
       "      <th>days_active</th>\n",
       "      <th>pro_upgrade_date</th>\n",
       "      <th>plan_type</th>\n",
       "      <th>monthly_revenue</th>\n",
       "      <th>churned</th>\n",
       "    </tr>\n",
       "  </thead>\n",
       "  <tbody>\n",
       "    <tr>\n",
       "      <th>0</th>\n",
       "      <td>1</td>\n",
       "      <td>6/29/2023</td>\n",
       "      <td>7/12/2023</td>\n",
       "      <td>Free</td>\n",
       "      <td>UK</td>\n",
       "      <td>3</td>\n",
       "      <td>15</td>\n",
       "      <td>1</td>\n",
       "      <td>1</td>\n",
       "      <td>13</td>\n",
       "      <td>NaN</td>\n",
       "      <td>NaN</td>\n",
       "      <td>0</td>\n",
       "      <td>1</td>\n",
       "    </tr>\n",
       "    <tr>\n",
       "      <th>1</th>\n",
       "      <td>2</td>\n",
       "      <td>4/10/2023</td>\n",
       "      <td>7/25/2023</td>\n",
       "      <td>Free</td>\n",
       "      <td>India</td>\n",
       "      <td>133</td>\n",
       "      <td>665</td>\n",
       "      <td>0</td>\n",
       "      <td>1</td>\n",
       "      <td>106</td>\n",
       "      <td>NaN</td>\n",
       "      <td>NaN</td>\n",
       "      <td>0</td>\n",
       "      <td>0</td>\n",
       "    </tr>\n",
       "    <tr>\n",
       "      <th>2</th>\n",
       "      <td>3</td>\n",
       "      <td>10/25/2023</td>\n",
       "      <td>12/7/2023</td>\n",
       "      <td>Free</td>\n",
       "      <td>USA</td>\n",
       "      <td>53</td>\n",
       "      <td>106</td>\n",
       "      <td>0</td>\n",
       "      <td>1</td>\n",
       "      <td>43</td>\n",
       "      <td>NaN</td>\n",
       "      <td>NaN</td>\n",
       "      <td>0</td>\n",
       "      <td>0</td>\n",
       "    </tr>\n",
       "    <tr>\n",
       "      <th>3</th>\n",
       "      <td>4</td>\n",
       "      <td>8/26/2023</td>\n",
       "      <td>11/9/2023</td>\n",
       "      <td>Pro</td>\n",
       "      <td>Canada</td>\n",
       "      <td>242</td>\n",
       "      <td>242</td>\n",
       "      <td>0</td>\n",
       "      <td>1</td>\n",
       "      <td>75</td>\n",
       "      <td>11/9/2023</td>\n",
       "      <td>Basic</td>\n",
       "      <td>49</td>\n",
       "      <td>0</td>\n",
       "    </tr>\n",
       "    <tr>\n",
       "      <th>4</th>\n",
       "      <td>5</td>\n",
       "      <td>5/14/2023</td>\n",
       "      <td>11/22/2023</td>\n",
       "      <td>Free</td>\n",
       "      <td>UK</td>\n",
       "      <td>12</td>\n",
       "      <td>48</td>\n",
       "      <td>0</td>\n",
       "      <td>1</td>\n",
       "      <td>192</td>\n",
       "      <td>NaN</td>\n",
       "      <td>NaN</td>\n",
       "      <td>0</td>\n",
       "      <td>0</td>\n",
       "    </tr>\n",
       "  </tbody>\n",
       "</table>\n",
       "</div>"
      ],
      "text/plain": [
       "   user_id install_date last_active_date subscription_type country  \\\n",
       "0        1    6/29/2023        7/12/2023              Free      UK   \n",
       "1        2    4/10/2023        7/25/2023              Free   India   \n",
       "2        3   10/25/2023        12/7/2023              Free     USA   \n",
       "3        4    8/26/2023        11/9/2023               Pro  Canada   \n",
       "4        5    5/14/2023       11/22/2023              Free      UK   \n",
       "\n",
       "   total_sessions  page_views  download_clicks  activation_status  \\\n",
       "0               3          15                1                  1   \n",
       "1             133         665                0                  1   \n",
       "2              53         106                0                  1   \n",
       "3             242         242                0                  1   \n",
       "4              12          48                0                  1   \n",
       "\n",
       "   days_active pro_upgrade_date plan_type  monthly_revenue  churned  \n",
       "0           13              NaN       NaN                0        1  \n",
       "1          106              NaN       NaN                0        0  \n",
       "2           43              NaN       NaN                0        0  \n",
       "3           75        11/9/2023     Basic               49        0  \n",
       "4          192              NaN       NaN                0        0  "
      ]
     },
     "execution_count": 5,
     "metadata": {},
     "output_type": "execute_result"
    }
   ],
   "source": [
    "import pandas as pd\n",
    "import numpy as np\n",
    "\n",
    "# Load the dataset\n",
    "df = pd.read_csv('wppool_growth_data_sample_20k.csv')\n",
    "df.head()\n",
    "\n",
    "\n"
   ]
  },
  {
   "cell_type": "code",
   "execution_count": 2,
   "metadata": {},
   "outputs": [
    {
     "name": "stdout",
     "output_type": "stream",
     "text": [
      "Percentage of users who upgraded from Free to Pro: 20.14%\n"
     ]
    }
   ],
   "source": [
    "# Step 1: Percentage of users who upgraded from Free to Pro\n",
    "total_users = df['user_id'].nunique()\n",
    "upgraded_users = df[df['subscription_type'] == 'Pro']['user_id'].nunique()\n",
    "upgrade_percentage = (upgraded_users / total_users) * 100\n",
    "print(f\"Percentage of users who upgraded from Free to Pro: {upgrade_percentage:.2f}%\")\n",
    "\n"
   ]
  },
  {
   "cell_type": "code",
   "execution_count": 3,
   "metadata": {},
   "outputs": [
    {
     "name": "stdout",
     "output_type": "stream",
     "text": [
      "Total monthly revenue from Pro users: $235,481.00\n"
     ]
    }
   ],
   "source": [
    "# Step 2: Total monthly revenue from Pro users\n",
    "total_revenue = df[df['subscription_type'] == 'Pro']['monthly_revenue'].sum()\n",
    "print(f\"Total monthly revenue from Pro users: ${total_revenue:,.2f}\")\n",
    "\n"
   ]
  },
  {
   "cell_type": "code",
   "execution_count": 4,
   "metadata": {},
   "outputs": [
    {
     "name": "stdout",
     "output_type": "stream",
     "text": [
      "\n",
      "Revenue contribution by Pro plan:\n",
      "plan_type\n",
      "Basic         80339\n",
      "Enterprise    78764\n",
      "Standard      76378\n",
      "Name: monthly_revenue, dtype: int64\n"
     ]
    }
   ],
   "source": [
    "# Step 3: Which Pro plan contributes the most revenue?\n",
    "revenue_by_plan = df[df['subscription_type'] == 'Pro'].groupby('plan_type')['monthly_revenue'].sum()\n",
    "print(\"\\nRevenue contribution by Pro plan:\")\n",
    "print(revenue_by_plan)\n",
    "\n"
   ]
  },
  {
   "cell_type": "code",
   "execution_count": 6,
   "metadata": {},
   "outputs": [
    {
     "name": "stdout",
     "output_type": "stream",
     "text": [
      "\n",
      "Average time to upgrade (in days) by country:\n",
      "country\n",
      "UK           87.899654\n",
      "USA          90.242215\n",
      "France       91.164311\n",
      "Germany      91.525510\n",
      "India        92.578151\n",
      "Canada       93.571184\n",
      "Australia    93.683919\n",
      "Name: upgrade_time, dtype: float64\n"
     ]
    }
   ],
   "source": [
    "# Step 4: Analyze how long it takes for Free users to upgrade based on country and engagement level\n",
    "\n",
    "# Filter Free users who upgraded\n",
    "free_to_pro_users = df[(df['subscription_type'] == 'Pro') & (df['pro_upgrade_date'].notnull())].copy()\n",
    "\n",
    "# Calculate the time taken to upgrade (in days)\n",
    "free_to_pro_users.loc[:, 'upgrade_time'] = (\n",
    "    pd.to_datetime(free_to_pro_users['pro_upgrade_date']) - \n",
    "    pd.to_datetime(free_to_pro_users['install_date'])\n",
    ").dt.days\n",
    "\n",
    "# Group by country and calculate the average upgrade time\n",
    "upgrade_time_by_country = free_to_pro_users.groupby('country')['upgrade_time'].mean().sort_values()\n",
    "\n",
    "# Print results\n",
    "print(\"\\nAverage time to upgrade (in days) by country:\")\n",
    "print(upgrade_time_by_country)\n",
    "\n",
    "\n"
   ]
  },
  {
   "cell_type": "code",
   "execution_count": 9,
   "metadata": {},
   "outputs": [
    {
     "name": "stdout",
     "output_type": "stream",
     "text": [
      "\n",
      "Average time to upgrade (in days) by engagement level:\n",
      "engagement_level\n",
      "High         88.775988\n",
      "Very High    91.706561\n",
      "Medium       93.716578\n",
      "Low          99.818182\n",
      "Name: upgrade_time, dtype: float64\n"
     ]
    }
   ],
   "source": [
    "\n",
    "\n",
    "# Group by engagement level (total_sessions) and calculate average upgrade time\n",
    "free_to_pro_users = free_to_pro_users.copy()  # Ensure we're working with a separate copy\n",
    "\n",
    "# Create engagement level categories safely using .loc\n",
    "free_to_pro_users.loc[:, 'engagement_level'] = pd.cut(\n",
    "    free_to_pro_users['total_sessions'], \n",
    "    bins=[0, 10, 50, 100, np.inf], \n",
    "    labels=['Low', 'Medium', 'High', 'Very High']\n",
    ")\n",
    "\n",
    "\n",
    "# Group by engagement level and calculate the average upgrade time\n",
    "upgrade_time_by_engagement = free_to_pro_users.groupby(\n",
    "    'engagement_level', observed=False  # Explicitly setting observed=False\n",
    ")['upgrade_time'].mean().sort_values()\n",
    "\n",
    "\n",
    "# Print results\n",
    "print(\"\\nAverage time to upgrade (in days) by engagement level:\")\n",
    "print(upgrade_time_by_engagement)\n"
   ]
  }
 ],
 "metadata": {
  "kernelspec": {
   "display_name": "Python 3",
   "language": "python",
   "name": "python3"
  },
  "language_info": {
   "codemirror_mode": {
    "name": "ipython",
    "version": 3
   },
   "file_extension": ".py",
   "mimetype": "text/x-python",
   "name": "python",
   "nbconvert_exporter": "python",
   "pygments_lexer": "ipython3",
   "version": "3.12.5"
  }
 },
 "nbformat": 4,
 "nbformat_minor": 2
}
