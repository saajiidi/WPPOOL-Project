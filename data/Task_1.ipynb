{
 "cells": [
  {
   "cell_type": "code",
   "execution_count": 1,
   "metadata": {},
   "outputs": [
    {
     "data": {
      "text/html": [
       "<div>\n",
       "<style scoped>\n",
       "    .dataframe tbody tr th:only-of-type {\n",
       "        vertical-align: middle;\n",
       "    }\n",
       "\n",
       "    .dataframe tbody tr th {\n",
       "        vertical-align: top;\n",
       "    }\n",
       "\n",
       "    .dataframe thead th {\n",
       "        text-align: right;\n",
       "    }\n",
       "</style>\n",
       "<table border=\"1\" class=\"dataframe\">\n",
       "  <thead>\n",
       "    <tr style=\"text-align: right;\">\n",
       "      <th></th>\n",
       "      <th>user_id</th>\n",
       "      <th>install_date</th>\n",
       "      <th>last_active_date</th>\n",
       "      <th>subscription_type</th>\n",
       "      <th>country</th>\n",
       "      <th>total_sessions</th>\n",
       "      <th>page_views</th>\n",
       "      <th>download_clicks</th>\n",
       "      <th>activation_status</th>\n",
       "      <th>days_active</th>\n",
       "      <th>pro_upgrade_date</th>\n",
       "      <th>plan_type</th>\n",
       "      <th>monthly_revenue</th>\n",
       "      <th>churned</th>\n",
       "    </tr>\n",
       "  </thead>\n",
       "  <tbody>\n",
       "    <tr>\n",
       "      <th>0</th>\n",
       "      <td>1</td>\n",
       "      <td>6/29/2023</td>\n",
       "      <td>7/12/2023</td>\n",
       "      <td>Free</td>\n",
       "      <td>UK</td>\n",
       "      <td>3</td>\n",
       "      <td>15</td>\n",
       "      <td>1</td>\n",
       "      <td>1</td>\n",
       "      <td>13</td>\n",
       "      <td>NaN</td>\n",
       "      <td>NaN</td>\n",
       "      <td>0</td>\n",
       "      <td>1</td>\n",
       "    </tr>\n",
       "    <tr>\n",
       "      <th>1</th>\n",
       "      <td>2</td>\n",
       "      <td>4/10/2023</td>\n",
       "      <td>7/25/2023</td>\n",
       "      <td>Free</td>\n",
       "      <td>India</td>\n",
       "      <td>133</td>\n",
       "      <td>665</td>\n",
       "      <td>0</td>\n",
       "      <td>1</td>\n",
       "      <td>106</td>\n",
       "      <td>NaN</td>\n",
       "      <td>NaN</td>\n",
       "      <td>0</td>\n",
       "      <td>0</td>\n",
       "    </tr>\n",
       "    <tr>\n",
       "      <th>2</th>\n",
       "      <td>3</td>\n",
       "      <td>10/25/2023</td>\n",
       "      <td>12/7/2023</td>\n",
       "      <td>Free</td>\n",
       "      <td>USA</td>\n",
       "      <td>53</td>\n",
       "      <td>106</td>\n",
       "      <td>0</td>\n",
       "      <td>1</td>\n",
       "      <td>43</td>\n",
       "      <td>NaN</td>\n",
       "      <td>NaN</td>\n",
       "      <td>0</td>\n",
       "      <td>0</td>\n",
       "    </tr>\n",
       "    <tr>\n",
       "      <th>3</th>\n",
       "      <td>4</td>\n",
       "      <td>8/26/2023</td>\n",
       "      <td>11/9/2023</td>\n",
       "      <td>Pro</td>\n",
       "      <td>Canada</td>\n",
       "      <td>242</td>\n",
       "      <td>242</td>\n",
       "      <td>0</td>\n",
       "      <td>1</td>\n",
       "      <td>75</td>\n",
       "      <td>11/9/2023</td>\n",
       "      <td>Basic</td>\n",
       "      <td>49</td>\n",
       "      <td>0</td>\n",
       "    </tr>\n",
       "    <tr>\n",
       "      <th>4</th>\n",
       "      <td>5</td>\n",
       "      <td>5/14/2023</td>\n",
       "      <td>11/22/2023</td>\n",
       "      <td>Free</td>\n",
       "      <td>UK</td>\n",
       "      <td>12</td>\n",
       "      <td>48</td>\n",
       "      <td>0</td>\n",
       "      <td>1</td>\n",
       "      <td>192</td>\n",
       "      <td>NaN</td>\n",
       "      <td>NaN</td>\n",
       "      <td>0</td>\n",
       "      <td>0</td>\n",
       "    </tr>\n",
       "    <tr>\n",
       "      <th>5</th>\n",
       "      <td>6</td>\n",
       "      <td>12/17/2023</td>\n",
       "      <td>12/28/2023</td>\n",
       "      <td>Free</td>\n",
       "      <td>Canada</td>\n",
       "      <td>92</td>\n",
       "      <td>460</td>\n",
       "      <td>0</td>\n",
       "      <td>1</td>\n",
       "      <td>11</td>\n",
       "      <td>NaN</td>\n",
       "      <td>NaN</td>\n",
       "      <td>0</td>\n",
       "      <td>1</td>\n",
       "    </tr>\n",
       "    <tr>\n",
       "      <th>6</th>\n",
       "      <td>7</td>\n",
       "      <td>7/29/2023</td>\n",
       "      <td>11/26/2023</td>\n",
       "      <td>Free</td>\n",
       "      <td>UK</td>\n",
       "      <td>12</td>\n",
       "      <td>12</td>\n",
       "      <td>0</td>\n",
       "      <td>1</td>\n",
       "      <td>120</td>\n",
       "      <td>NaN</td>\n",
       "      <td>NaN</td>\n",
       "      <td>0</td>\n",
       "      <td>0</td>\n",
       "    </tr>\n",
       "    <tr>\n",
       "      <th>7</th>\n",
       "      <td>8</td>\n",
       "      <td>1/12/2023</td>\n",
       "      <td>1/24/2023</td>\n",
       "      <td>Free</td>\n",
       "      <td>USA</td>\n",
       "      <td>115</td>\n",
       "      <td>230</td>\n",
       "      <td>0</td>\n",
       "      <td>1</td>\n",
       "      <td>12</td>\n",
       "      <td>NaN</td>\n",
       "      <td>NaN</td>\n",
       "      <td>0</td>\n",
       "      <td>1</td>\n",
       "    </tr>\n",
       "    <tr>\n",
       "      <th>8</th>\n",
       "      <td>9</td>\n",
       "      <td>9/19/2023</td>\n",
       "      <td>12/2/2023</td>\n",
       "      <td>Free</td>\n",
       "      <td>USA</td>\n",
       "      <td>67</td>\n",
       "      <td>201</td>\n",
       "      <td>0</td>\n",
       "      <td>1</td>\n",
       "      <td>74</td>\n",
       "      <td>NaN</td>\n",
       "      <td>NaN</td>\n",
       "      <td>0</td>\n",
       "      <td>0</td>\n",
       "    </tr>\n",
       "    <tr>\n",
       "      <th>9</th>\n",
       "      <td>10</td>\n",
       "      <td>4/19/2023</td>\n",
       "      <td>8/21/2023</td>\n",
       "      <td>Free</td>\n",
       "      <td>Germany</td>\n",
       "      <td>46</td>\n",
       "      <td>138</td>\n",
       "      <td>0</td>\n",
       "      <td>1</td>\n",
       "      <td>124</td>\n",
       "      <td>NaN</td>\n",
       "      <td>NaN</td>\n",
       "      <td>0</td>\n",
       "      <td>0</td>\n",
       "    </tr>\n",
       "  </tbody>\n",
       "</table>\n",
       "</div>"
      ],
      "text/plain": [
       "   user_id install_date last_active_date subscription_type  country  \\\n",
       "0        1    6/29/2023        7/12/2023              Free       UK   \n",
       "1        2    4/10/2023        7/25/2023              Free    India   \n",
       "2        3   10/25/2023        12/7/2023              Free      USA   \n",
       "3        4    8/26/2023        11/9/2023               Pro   Canada   \n",
       "4        5    5/14/2023       11/22/2023              Free       UK   \n",
       "5        6   12/17/2023       12/28/2023              Free   Canada   \n",
       "6        7    7/29/2023       11/26/2023              Free       UK   \n",
       "7        8    1/12/2023        1/24/2023              Free      USA   \n",
       "8        9    9/19/2023        12/2/2023              Free      USA   \n",
       "9       10    4/19/2023        8/21/2023              Free  Germany   \n",
       "\n",
       "   total_sessions  page_views  download_clicks  activation_status  \\\n",
       "0               3          15                1                  1   \n",
       "1             133         665                0                  1   \n",
       "2              53         106                0                  1   \n",
       "3             242         242                0                  1   \n",
       "4              12          48                0                  1   \n",
       "5              92         460                0                  1   \n",
       "6              12          12                0                  1   \n",
       "7             115         230                0                  1   \n",
       "8              67         201                0                  1   \n",
       "9              46         138                0                  1   \n",
       "\n",
       "   days_active pro_upgrade_date plan_type  monthly_revenue  churned  \n",
       "0           13              NaN       NaN                0        1  \n",
       "1          106              NaN       NaN                0        0  \n",
       "2           43              NaN       NaN                0        0  \n",
       "3           75        11/9/2023     Basic               49        0  \n",
       "4          192              NaN       NaN                0        0  \n",
       "5           11              NaN       NaN                0        1  \n",
       "6          120              NaN       NaN                0        0  \n",
       "7           12              NaN       NaN                0        1  \n",
       "8           74              NaN       NaN                0        0  \n",
       "9          124              NaN       NaN                0        0  "
      ]
     },
     "execution_count": 1,
     "metadata": {},
     "output_type": "execute_result"
    }
   ],
   "source": [
    "import pandas as pd\n",
    "\n",
    "# Load the dataset\n",
    "df = pd.read_csv('wppool_growth_data_sample_20k.csv')\n",
    "df.head(10)"
   ]
  },
  {
   "cell_type": "code",
   "execution_count": 6,
   "metadata": {},
   "outputs": [
    {
     "name": "stdout",
     "output_type": "stream",
     "text": [
      "Missing values in each column:\n",
      "user_id                  0\n",
      "install_date             0\n",
      "last_active_date         0\n",
      "subscription_type        0\n",
      "country                  0\n",
      "total_sessions           0\n",
      "page_views               0\n",
      "download_clicks          0\n",
      "activation_status        0\n",
      "days_active              0\n",
      "pro_upgrade_date     15971\n",
      "plan_type            15971\n",
      "monthly_revenue          0\n",
      "churned                  0\n",
      "dtype: int64\n"
     ]
    }
   ],
   "source": [
    "# Step 1: Check for missing values\n",
    "print(\"Missing values in each column:\")\n",
    "print(df.isnull().sum())\n"
   ]
  },
  {
   "cell_type": "code",
   "execution_count": 2,
   "metadata": {},
   "outputs": [
    {
     "name": "stdout",
     "output_type": "stream",
     "text": [
      "       user_id  install_date  last_active_date  subscription_type  country  \\\n",
      "0        False         False             False              False    False   \n",
      "1        False         False             False              False    False   \n",
      "2        False         False             False              False    False   \n",
      "3        False         False             False              False    False   \n",
      "4        False         False             False              False    False   \n",
      "...        ...           ...               ...                ...      ...   \n",
      "19995    False         False             False              False    False   \n",
      "19996    False         False             False              False    False   \n",
      "19997    False         False             False              False    False   \n",
      "19998    False         False             False              False    False   \n",
      "19999    False         False             False              False    False   \n",
      "\n",
      "       total_sessions  page_views  download_clicks  activation_status  \\\n",
      "0               False       False            False              False   \n",
      "1               False       False            False              False   \n",
      "2               False       False            False              False   \n",
      "3               False       False            False              False   \n",
      "4               False       False            False              False   \n",
      "...               ...         ...              ...                ...   \n",
      "19995           False       False            False              False   \n",
      "19996           False       False            False              False   \n",
      "19997           False       False            False              False   \n",
      "19998           False       False            False              False   \n",
      "19999           False       False            False              False   \n",
      "\n",
      "       days_active  pro_upgrade_date  plan_type  monthly_revenue  churned  \n",
      "0            False              True       True            False    False  \n",
      "1            False              True       True            False    False  \n",
      "2            False              True       True            False    False  \n",
      "3            False             False      False            False    False  \n",
      "4            False              True       True            False    False  \n",
      "...            ...               ...        ...              ...      ...  \n",
      "19995        False              True       True            False    False  \n",
      "19996        False             False      False            False    False  \n",
      "19997        False              True       True            False    False  \n",
      "19998        False             False      False            False    False  \n",
      "19999        False              True       True            False    False  \n",
      "\n",
      "[20000 rows x 14 columns]\n"
     ]
    }
   ],
   "source": [
    "print(df.isnull())"
   ]
  },
  {
   "cell_type": "code",
   "execution_count": null,
   "metadata": {},
   "outputs": [],
   "source": [
    "for column in df.columns:\n",
    "    if df[column].dtype in ['int64', 'float64']:  # Numerical columns\n",
    "        df[column].fillna(df[column].median(), inplace=True)\n",
    "    else:  # Categorical columns\n",
    "        df[column].fillna(df[column].mode()[0], inplace=True)\n",
    "\n",
    "# Step 2: Check for duplicates\n",
    "print(\"\\nNumber of duplicate rows:\", df.duplicated().sum())"
   ]
  },
  {
   "cell_type": "code",
   "execution_count": 4,
   "metadata": {},
   "outputs": [],
   "source": [
    "# Remove duplicates\n",
    "df.drop_duplicates(inplace=True)"
   ]
  },
  {
   "cell_type": "code",
   "execution_count": 7,
   "metadata": {},
   "outputs": [
    {
     "name": "stdout",
     "output_type": "stream",
     "text": [
      "\n",
      "Unique values in 'subscription_type': ['Free' 'Pro']\n"
     ]
    }
   ],
   "source": [
    "# Step 3: Check for inconsistencies\n",
    "# Example: Ensure 'subscription_type' only contains 'Free' or 'Pro'\n",
    "print(\"\\nUnique values in 'subscription_type':\", df['subscription_type'].unique())"
   ]
  },
  {
   "cell_type": "code",
   "execution_count": 15,
   "metadata": {},
   "outputs": [
    {
     "name": "stdout",
     "output_type": "stream",
     "text": [
      "\n",
      "Dataset Summary:\n",
      "<class 'pandas.core.frame.DataFrame'>\n",
      "RangeIndex: 20000 entries, 0 to 19999\n",
      "Data columns (total 14 columns):\n",
      " #   Column             Non-Null Count  Dtype \n",
      "---  ------             --------------  ----- \n",
      " 0   user_id            20000 non-null  int64 \n",
      " 1   install_date       20000 non-null  object\n",
      " 2   last_active_date   20000 non-null  object\n",
      " 3   subscription_type  20000 non-null  object\n",
      " 4   country            20000 non-null  object\n",
      " 5   total_sessions     20000 non-null  int64 \n",
      " 6   page_views         20000 non-null  int64 \n",
      " 7   download_clicks    20000 non-null  int64 \n",
      " 8   activation_status  20000 non-null  int64 \n",
      " 9   days_active        20000 non-null  int64 \n",
      " 10  pro_upgrade_date   20000 non-null  object\n",
      " 11  plan_type          20000 non-null  object\n",
      " 12  monthly_revenue    20000 non-null  int64 \n",
      " 13  churned            20000 non-null  int64 \n",
      "dtypes: int64(8), object(6)\n",
      "memory usage: 2.1+ MB\n",
      "None\n"
     ]
    }
   ],
   "source": [
    "print(\"\\nDataset Summary:\")\n",
    "print(df.info())\n"
   ]
  },
  {
   "cell_type": "code",
   "execution_count": 13,
   "metadata": {},
   "outputs": [
    {
     "name": "stdout",
     "output_type": "stream",
     "text": [
      "             user_id install_date last_active_date subscription_type country  \\\n",
      "count   20000.000000        20000            20000             20000   20000   \n",
      "unique           NaN          366              357                 2       7   \n",
      "top              NaN    8/13/2023         1/1/2024              Free   India   \n",
      "freq             NaN           83              328             15971    2914   \n",
      "mean    10000.500000          NaN              NaN               NaN     NaN   \n",
      "std      5773.647028          NaN              NaN               NaN     NaN   \n",
      "min         1.000000          NaN              NaN               NaN     NaN   \n",
      "25%      5000.750000          NaN              NaN               NaN     NaN   \n",
      "50%     10000.500000          NaN              NaN               NaN     NaN   \n",
      "75%     15000.250000          NaN              NaN               NaN     NaN   \n",
      "max     20000.000000          NaN              NaN               NaN     NaN   \n",
      "\n",
      "        total_sessions    page_views  download_clicks  activation_status  \\\n",
      "count     20000.000000  20000.000000     20000.000000       20000.000000   \n",
      "unique             NaN           NaN              NaN                NaN   \n",
      "top                NaN           NaN              NaN                NaN   \n",
      "freq               NaN           NaN              NaN                NaN   \n",
      "mean         91.914500    276.308900         0.102250           0.990550   \n",
      "std          62.523862    244.775351         0.302984           0.096753   \n",
      "min           1.000000      1.000000         0.000000           0.000000   \n",
      "25%          44.000000     96.000000         0.000000           1.000000   \n",
      "50%          85.000000    208.000000         0.000000           1.000000   \n",
      "75%         126.000000    396.000000         0.000000           1.000000   \n",
      "max         300.000000   1500.000000         1.000000           1.000000   \n",
      "\n",
      "        days_active pro_upgrade_date plan_type  monthly_revenue       churned  \n",
      "count   20000.00000            20000     20000     20000.000000  20000.000000  \n",
      "unique          NaN              337         3              NaN           NaN  \n",
      "top             NaN       12/31/2023     Basic              NaN           NaN  \n",
      "freq            NaN            16044     17332              NaN           NaN  \n",
      "mean       91.28080              NaN       NaN        11.774050      0.285250  \n",
      "std        80.67644              NaN       NaN        26.845358      0.451545  \n",
      "min         0.00000              NaN       NaN         0.000000      0.000000  \n",
      "25%        24.00000              NaN       NaN         0.000000      0.000000  \n",
      "50%        68.00000              NaN       NaN         0.000000      0.000000  \n",
      "75%       140.00000              NaN       NaN         0.000000      1.000000  \n",
      "max       364.00000              NaN       NaN        99.000000      1.000000  \n"
     ]
    }
   ],
   "source": [
    "print(df.describe(include='all'))"
   ]
  },
  {
   "cell_type": "code",
   "execution_count": 16,
   "metadata": {},
   "outputs": [
    {
     "name": "stdout",
     "output_type": "stream",
     "text": [
      "\n",
      "Distribution of Free vs. Pro users:\n",
      "subscription_type\n",
      "Free    79.855\n",
      "Pro     20.145\n",
      "Name: proportion, dtype: float64\n"
     ]
    }
   ],
   "source": [
    "# Step 5: Distribution of Free vs. Pro users\n",
    "subscription_distribution = df['subscription_type'].value_counts(normalize=True) * 100\n",
    "print(\"\\nDistribution of Free vs. Pro users:\")\n",
    "print(subscription_distribution)"
   ]
  },
  {
   "cell_type": "code",
   "execution_count": 17,
   "metadata": {},
   "outputs": [
    {
     "name": "stdout",
     "output_type": "stream",
     "text": [
      "\n",
      "Churn rate by subscription type:\n",
      "subscription_type\n",
      "Free    28.595579\n",
      "Pro     28.245222\n",
      "Name: churned, dtype: float64\n"
     ]
    }
   ],
   "source": [
    "# Additional summary: Churn rate by subscription type\n",
    "churn_rate = df.groupby('subscription_type')['churned'].mean() * 100\n",
    "print(\"\\nChurn rate by subscription type:\")\n",
    "print(churn_rate)"
   ]
  },
  {
   "cell_type": "code",
   "execution_count": 2,
   "metadata": {},
   "outputs": [
    {
     "data": {
      "application/vnd.plotly.v1+json": {
       "config": {
        "plotlyServerURL": "https://plot.ly"
       },
       "data": [
        {
         "domain": {
          "x": [
           0,
           1
          ],
          "y": [
           0,
           1
          ]
         },
         "hole": 0.4,
         "hovertemplate": "subscription_type=%{label}<br>value=%{value}<extra></extra>",
         "labels": [
          "Free",
          "Pro"
         ],
         "legendgroup": "",
         "name": "",
         "showlegend": true,
         "textinfo": "percent+label",
         "textposition": "inside",
         "type": "pie",
         "values": {
          "bdata": "H4XrUbj2U0CF61G4HiU0QA==",
          "dtype": "f8"
         }
        }
       ],
       "layout": {
        "legend": {
         "tracegroupgap": 0
        },
        "piecolorway": [
         "rgb(102, 197, 204)",
         "rgb(246, 207, 113)",
         "rgb(248, 156, 116)",
         "rgb(220, 176, 242)",
         "rgb(135, 197, 95)",
         "rgb(158, 185, 243)",
         "rgb(254, 136, 177)",
         "rgb(201, 219, 116)",
         "rgb(139, 224, 164)",
         "rgb(180, 151, 231)",
         "rgb(179, 179, 179)"
        ],
        "template": {
         "data": {
          "bar": [
           {
            "error_x": {
             "color": "#2a3f5f"
            },
            "error_y": {
             "color": "#2a3f5f"
            },
            "marker": {
             "line": {
              "color": "#E5ECF6",
              "width": 0.5
             },
             "pattern": {
              "fillmode": "overlay",
              "size": 10,
              "solidity": 0.2
             }
            },
            "type": "bar"
           }
          ],
          "barpolar": [
           {
            "marker": {
             "line": {
              "color": "#E5ECF6",
              "width": 0.5
             },
             "pattern": {
              "fillmode": "overlay",
              "size": 10,
              "solidity": 0.2
             }
            },
            "type": "barpolar"
           }
          ],
          "carpet": [
           {
            "aaxis": {
             "endlinecolor": "#2a3f5f",
             "gridcolor": "white",
             "linecolor": "white",
             "minorgridcolor": "white",
             "startlinecolor": "#2a3f5f"
            },
            "baxis": {
             "endlinecolor": "#2a3f5f",
             "gridcolor": "white",
             "linecolor": "white",
             "minorgridcolor": "white",
             "startlinecolor": "#2a3f5f"
            },
            "type": "carpet"
           }
          ],
          "choropleth": [
           {
            "colorbar": {
             "outlinewidth": 0,
             "ticks": ""
            },
            "type": "choropleth"
           }
          ],
          "contour": [
           {
            "colorbar": {
             "outlinewidth": 0,
             "ticks": ""
            },
            "colorscale": [
             [
              0,
              "#0d0887"
             ],
             [
              0.1111111111111111,
              "#46039f"
             ],
             [
              0.2222222222222222,
              "#7201a8"
             ],
             [
              0.3333333333333333,
              "#9c179e"
             ],
             [
              0.4444444444444444,
              "#bd3786"
             ],
             [
              0.5555555555555556,
              "#d8576b"
             ],
             [
              0.6666666666666666,
              "#ed7953"
             ],
             [
              0.7777777777777778,
              "#fb9f3a"
             ],
             [
              0.8888888888888888,
              "#fdca26"
             ],
             [
              1,
              "#f0f921"
             ]
            ],
            "type": "contour"
           }
          ],
          "contourcarpet": [
           {
            "colorbar": {
             "outlinewidth": 0,
             "ticks": ""
            },
            "type": "contourcarpet"
           }
          ],
          "heatmap": [
           {
            "colorbar": {
             "outlinewidth": 0,
             "ticks": ""
            },
            "colorscale": [
             [
              0,
              "#0d0887"
             ],
             [
              0.1111111111111111,
              "#46039f"
             ],
             [
              0.2222222222222222,
              "#7201a8"
             ],
             [
              0.3333333333333333,
              "#9c179e"
             ],
             [
              0.4444444444444444,
              "#bd3786"
             ],
             [
              0.5555555555555556,
              "#d8576b"
             ],
             [
              0.6666666666666666,
              "#ed7953"
             ],
             [
              0.7777777777777778,
              "#fb9f3a"
             ],
             [
              0.8888888888888888,
              "#fdca26"
             ],
             [
              1,
              "#f0f921"
             ]
            ],
            "type": "heatmap"
           }
          ],
          "histogram": [
           {
            "marker": {
             "pattern": {
              "fillmode": "overlay",
              "size": 10,
              "solidity": 0.2
             }
            },
            "type": "histogram"
           }
          ],
          "histogram2d": [
           {
            "colorbar": {
             "outlinewidth": 0,
             "ticks": ""
            },
            "colorscale": [
             [
              0,
              "#0d0887"
             ],
             [
              0.1111111111111111,
              "#46039f"
             ],
             [
              0.2222222222222222,
              "#7201a8"
             ],
             [
              0.3333333333333333,
              "#9c179e"
             ],
             [
              0.4444444444444444,
              "#bd3786"
             ],
             [
              0.5555555555555556,
              "#d8576b"
             ],
             [
              0.6666666666666666,
              "#ed7953"
             ],
             [
              0.7777777777777778,
              "#fb9f3a"
             ],
             [
              0.8888888888888888,
              "#fdca26"
             ],
             [
              1,
              "#f0f921"
             ]
            ],
            "type": "histogram2d"
           }
          ],
          "histogram2dcontour": [
           {
            "colorbar": {
             "outlinewidth": 0,
             "ticks": ""
            },
            "colorscale": [
             [
              0,
              "#0d0887"
             ],
             [
              0.1111111111111111,
              "#46039f"
             ],
             [
              0.2222222222222222,
              "#7201a8"
             ],
             [
              0.3333333333333333,
              "#9c179e"
             ],
             [
              0.4444444444444444,
              "#bd3786"
             ],
             [
              0.5555555555555556,
              "#d8576b"
             ],
             [
              0.6666666666666666,
              "#ed7953"
             ],
             [
              0.7777777777777778,
              "#fb9f3a"
             ],
             [
              0.8888888888888888,
              "#fdca26"
             ],
             [
              1,
              "#f0f921"
             ]
            ],
            "type": "histogram2dcontour"
           }
          ],
          "mesh3d": [
           {
            "colorbar": {
             "outlinewidth": 0,
             "ticks": ""
            },
            "type": "mesh3d"
           }
          ],
          "parcoords": [
           {
            "line": {
             "colorbar": {
              "outlinewidth": 0,
              "ticks": ""
             }
            },
            "type": "parcoords"
           }
          ],
          "pie": [
           {
            "automargin": true,
            "type": "pie"
           }
          ],
          "scatter": [
           {
            "fillpattern": {
             "fillmode": "overlay",
             "size": 10,
             "solidity": 0.2
            },
            "type": "scatter"
           }
          ],
          "scatter3d": [
           {
            "line": {
             "colorbar": {
              "outlinewidth": 0,
              "ticks": ""
             }
            },
            "marker": {
             "colorbar": {
              "outlinewidth": 0,
              "ticks": ""
             }
            },
            "type": "scatter3d"
           }
          ],
          "scattercarpet": [
           {
            "marker": {
             "colorbar": {
              "outlinewidth": 0,
              "ticks": ""
             }
            },
            "type": "scattercarpet"
           }
          ],
          "scattergeo": [
           {
            "marker": {
             "colorbar": {
              "outlinewidth": 0,
              "ticks": ""
             }
            },
            "type": "scattergeo"
           }
          ],
          "scattergl": [
           {
            "marker": {
             "colorbar": {
              "outlinewidth": 0,
              "ticks": ""
             }
            },
            "type": "scattergl"
           }
          ],
          "scattermap": [
           {
            "marker": {
             "colorbar": {
              "outlinewidth": 0,
              "ticks": ""
             }
            },
            "type": "scattermap"
           }
          ],
          "scattermapbox": [
           {
            "marker": {
             "colorbar": {
              "outlinewidth": 0,
              "ticks": ""
             }
            },
            "type": "scattermapbox"
           }
          ],
          "scatterpolar": [
           {
            "marker": {
             "colorbar": {
              "outlinewidth": 0,
              "ticks": ""
             }
            },
            "type": "scatterpolar"
           }
          ],
          "scatterpolargl": [
           {
            "marker": {
             "colorbar": {
              "outlinewidth": 0,
              "ticks": ""
             }
            },
            "type": "scatterpolargl"
           }
          ],
          "scatterternary": [
           {
            "marker": {
             "colorbar": {
              "outlinewidth": 0,
              "ticks": ""
             }
            },
            "type": "scatterternary"
           }
          ],
          "surface": [
           {
            "colorbar": {
             "outlinewidth": 0,
             "ticks": ""
            },
            "colorscale": [
             [
              0,
              "#0d0887"
             ],
             [
              0.1111111111111111,
              "#46039f"
             ],
             [
              0.2222222222222222,
              "#7201a8"
             ],
             [
              0.3333333333333333,
              "#9c179e"
             ],
             [
              0.4444444444444444,
              "#bd3786"
             ],
             [
              0.5555555555555556,
              "#d8576b"
             ],
             [
              0.6666666666666666,
              "#ed7953"
             ],
             [
              0.7777777777777778,
              "#fb9f3a"
             ],
             [
              0.8888888888888888,
              "#fdca26"
             ],
             [
              1,
              "#f0f921"
             ]
            ],
            "type": "surface"
           }
          ],
          "table": [
           {
            "cells": {
             "fill": {
              "color": "#EBF0F8"
             },
             "line": {
              "color": "white"
             }
            },
            "header": {
             "fill": {
              "color": "#C8D4E3"
             },
             "line": {
              "color": "white"
             }
            },
            "type": "table"
           }
          ]
         },
         "layout": {
          "annotationdefaults": {
           "arrowcolor": "#2a3f5f",
           "arrowhead": 0,
           "arrowwidth": 1
          },
          "autotypenumbers": "strict",
          "coloraxis": {
           "colorbar": {
            "outlinewidth": 0,
            "ticks": ""
           }
          },
          "colorscale": {
           "diverging": [
            [
             0,
             "#8e0152"
            ],
            [
             0.1,
             "#c51b7d"
            ],
            [
             0.2,
             "#de77ae"
            ],
            [
             0.3,
             "#f1b6da"
            ],
            [
             0.4,
             "#fde0ef"
            ],
            [
             0.5,
             "#f7f7f7"
            ],
            [
             0.6,
             "#e6f5d0"
            ],
            [
             0.7,
             "#b8e186"
            ],
            [
             0.8,
             "#7fbc41"
            ],
            [
             0.9,
             "#4d9221"
            ],
            [
             1,
             "#276419"
            ]
           ],
           "sequential": [
            [
             0,
             "#0d0887"
            ],
            [
             0.1111111111111111,
             "#46039f"
            ],
            [
             0.2222222222222222,
             "#7201a8"
            ],
            [
             0.3333333333333333,
             "#9c179e"
            ],
            [
             0.4444444444444444,
             "#bd3786"
            ],
            [
             0.5555555555555556,
             "#d8576b"
            ],
            [
             0.6666666666666666,
             "#ed7953"
            ],
            [
             0.7777777777777778,
             "#fb9f3a"
            ],
            [
             0.8888888888888888,
             "#fdca26"
            ],
            [
             1,
             "#f0f921"
            ]
           ],
           "sequentialminus": [
            [
             0,
             "#0d0887"
            ],
            [
             0.1111111111111111,
             "#46039f"
            ],
            [
             0.2222222222222222,
             "#7201a8"
            ],
            [
             0.3333333333333333,
             "#9c179e"
            ],
            [
             0.4444444444444444,
             "#bd3786"
            ],
            [
             0.5555555555555556,
             "#d8576b"
            ],
            [
             0.6666666666666666,
             "#ed7953"
            ],
            [
             0.7777777777777778,
             "#fb9f3a"
            ],
            [
             0.8888888888888888,
             "#fdca26"
            ],
            [
             1,
             "#f0f921"
            ]
           ]
          },
          "colorway": [
           "#636efa",
           "#EF553B",
           "#00cc96",
           "#ab63fa",
           "#FFA15A",
           "#19d3f3",
           "#FF6692",
           "#B6E880",
           "#FF97FF",
           "#FECB52"
          ],
          "font": {
           "color": "#2a3f5f"
          },
          "geo": {
           "bgcolor": "white",
           "lakecolor": "white",
           "landcolor": "#E5ECF6",
           "showlakes": true,
           "showland": true,
           "subunitcolor": "white"
          },
          "hoverlabel": {
           "align": "left"
          },
          "hovermode": "closest",
          "mapbox": {
           "style": "light"
          },
          "paper_bgcolor": "white",
          "plot_bgcolor": "#E5ECF6",
          "polar": {
           "angularaxis": {
            "gridcolor": "white",
            "linecolor": "white",
            "ticks": ""
           },
           "bgcolor": "#E5ECF6",
           "radialaxis": {
            "gridcolor": "white",
            "linecolor": "white",
            "ticks": ""
           }
          },
          "scene": {
           "xaxis": {
            "backgroundcolor": "#E5ECF6",
            "gridcolor": "white",
            "gridwidth": 2,
            "linecolor": "white",
            "showbackground": true,
            "ticks": "",
            "zerolinecolor": "white"
           },
           "yaxis": {
            "backgroundcolor": "#E5ECF6",
            "gridcolor": "white",
            "gridwidth": 2,
            "linecolor": "white",
            "showbackground": true,
            "ticks": "",
            "zerolinecolor": "white"
           },
           "zaxis": {
            "backgroundcolor": "#E5ECF6",
            "gridcolor": "white",
            "gridwidth": 2,
            "linecolor": "white",
            "showbackground": true,
            "ticks": "",
            "zerolinecolor": "white"
           }
          },
          "shapedefaults": {
           "line": {
            "color": "#2a3f5f"
           }
          },
          "ternary": {
           "aaxis": {
            "gridcolor": "white",
            "linecolor": "white",
            "ticks": ""
           },
           "baxis": {
            "gridcolor": "white",
            "linecolor": "white",
            "ticks": ""
           },
           "bgcolor": "#E5ECF6",
           "caxis": {
            "gridcolor": "white",
            "linecolor": "white",
            "ticks": ""
           }
          },
          "title": {
           "x": 0.05
          },
          "xaxis": {
           "automargin": true,
           "gridcolor": "white",
           "linecolor": "white",
           "ticks": "",
           "title": {
            "standoff": 15
           },
           "zerolinecolor": "white",
           "zerolinewidth": 2
          },
          "yaxis": {
           "automargin": true,
           "gridcolor": "white",
           "linecolor": "white",
           "ticks": "",
           "title": {
            "standoff": 15
           },
           "zerolinecolor": "white",
           "zerolinewidth": 2
          }
         }
        },
        "title": {
         "text": "Distribution of Free vs. Pro Users"
        }
       }
      }
     },
     "metadata": {},
     "output_type": "display_data"
    }
   ],
   "source": [
    "\n",
    "import plotly.express as px\n",
    "\n",
    "\n",
    "# Calculate the distribution of Free vs. Pro users\n",
    "subscription_distribution = df['subscription_type'].value_counts(normalize=True) * 100\n",
    "\n",
    "# Create a pie chart\n",
    "fig = px.pie(subscription_distribution, \n",
    "             values=subscription_distribution.values, \n",
    "             names=subscription_distribution.index,\n",
    "             title='Distribution of Free vs. Pro Users',\n",
    "             hole=0.4,  # Creates a donut chart\n",
    "             color_discrete_sequence=px.colors.qualitative.Pastel)\n",
    "\n",
    "# Add percentage labels\n",
    "fig.update_traces(textposition='inside', textinfo='percent+label')\n",
    "\n",
    "# Show the chart\n",
    "fig.show()"
   ]
  }
 ],
 "metadata": {
  "kernelspec": {
   "display_name": "Python 3",
   "language": "python",
   "name": "python3"
  },
  "language_info": {
   "codemirror_mode": {
    "name": "ipython",
    "version": 3
   },
   "file_extension": ".py",
   "mimetype": "text/x-python",
   "name": "python",
   "nbconvert_exporter": "python",
   "pygments_lexer": "ipython3",
   "version": "3.12.5"
  }
 },
 "nbformat": 4,
 "nbformat_minor": 2
}
